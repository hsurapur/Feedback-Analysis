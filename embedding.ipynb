{
 "cells": [
  {
   "cell_type": "code",
   "execution_count": 30,
   "metadata": {},
   "outputs": [],
   "source": [
    "import numpy as np\n",
    "from tensorflow.keras.preprocessing.text import one_hot\n",
    "from tensorflow.keras.layers import Embedding,Dense\n",
    "from tensorflow.keras.utils import pad_sequences\n",
    "from tensorflow.keras.models import Sequential\n",
    "import tensorflow as tf\n",
    "from tensorflow import keras"
   ]
  },
  {
   "cell_type": "code",
   "execution_count": 23,
   "metadata": {},
   "outputs": [],
   "source": [
    "sentences= [\n",
    "    \"The sun sets behind the mountains, casting a golden glow across the valley.\",\n",
    "    \"Artificial intelligence is transforming industries by increasing efficiency and innovation.\",\n",
    "    \"Reading books can expand your horizons and enhance your understanding of the world.\",\n",
    "    \"The gentle sound of rain created a soothing atmosphere on the quiet street.\",\n",
    "    \"Traveling to new places allows you to experience diverse cultures and traditions.\",\n",
    "    \"Music has the power to evoke emotions and connect people from different backgrounds.\",\n",
    "    \"A healthy diet and regular exercise are essential for maintaining overall well-being.\",\n",
    "    \"Technology is rapidly evolving, shaping the way we communicate and interact.\",\n",
    "    \"Friendship is built on trust, understanding, and shared experiences.\",\n",
    "    \"The intricate patterns of nature inspire artists and scientists alike.\"\n",
    "]"
   ]
  },
  {
   "cell_type": "code",
   "execution_count": 24,
   "metadata": {},
   "outputs": [],
   "source": [
    "# Define the vocabulary size\n",
    "vocab_size=200"
   ]
  },
  {
   "cell_type": "code",
   "execution_count": 25,
   "metadata": {},
   "outputs": [
    {
     "data": {
      "text/plain": [
       "[[50, 84, 188, 39, 50, 15, 195, 179, 153, 94, 133, 50, 133],\n",
       " [168, 29, 8, 42, 155, 152, 172, 58, 34, 1],\n",
       " [46, 135, 157, 136, 184, 136, 34, 25, 184, 108, 153, 50, 120],\n",
       " [50, 66, 102, 153, 186, 175, 179, 52, 169, 120, 50, 137, 120],\n",
       " [10, 79, 134, 131, 55, 175, 79, 68, 76, 123, 34, 63],\n",
       " [75, 153, 50, 26, 79, 92, 99, 34, 174, 51, 169, 123, 162],\n",
       " [179, 155, 74, 34, 65, 79, 84, 65, 104, 98, 34, 69, 64],\n",
       " [6, 8, 185, 153, 136, 50, 109, 40, 136, 34, 19],\n",
       " [72, 8, 175, 120, 21, 108, 34, 137, 141],\n",
       " [50, 153, 28, 153, 106, 42, 101, 34, 187, 11]]"
      ]
     },
     "execution_count": 25,
     "metadata": {},
     "output_type": "execute_result"
    }
   ],
   "source": [
    "# One Hot Representation\n",
    "one_hot_repr=[one_hot(words,vocab_size)for words in sentences]\n",
    "one_hot_repr"
   ]
  },
  {
   "cell_type": "code",
   "execution_count": 26,
   "metadata": {},
   "outputs": [
    {
     "name": "stdout",
     "output_type": "stream",
     "text": [
      "[[ 50  84 188  39  50  15 195 179 153  94 133  50 133   0   0]\n",
      " [168  29   8  42 155 152 172  58  34   1   0   0   0   0   0]\n",
      " [ 46 135 157 136 184 136  34  25 184 108 153  50 120   0   0]\n",
      " [ 50  66 102 153 186 175 179  52 169 120  50 137 120   0   0]\n",
      " [ 10  79 134 131  55 175  79  68  76 123  34  63   0   0   0]\n",
      " [ 75 153  50  26  79  92  99  34 174  51 169 123 162   0   0]\n",
      " [179 155  74  34  65  79  84  65 104  98  34  69  64   0   0]\n",
      " [  6   8 185 153 136  50 109  40 136  34  19   0   0   0   0]\n",
      " [ 72   8 175 120  21 108  34 137 141   0   0   0   0   0   0]\n",
      " [ 50 153  28 153 106  42 101  34 187  11   0   0   0   0   0]]\n"
     ]
    }
   ],
   "source": [
    "sentence_length=15\n",
    "embedded_layer=pad_sequences(one_hot_repr,padding='post',maxlen=sentence_length)\n",
    "print(embedded_layer)"
   ]
  },
  {
   "cell_type": "code",
   "execution_count": 27,
   "metadata": {},
   "outputs": [],
   "source": [
    "## feature representation\n",
    "dimensions=20"
   ]
  },
  {
   "cell_type": "code",
   "execution_count": 68,
   "metadata": {},
   "outputs": [
    {
     "name": "stderr",
     "output_type": "stream",
     "text": [
      "c:\\ProgramData\\Anaconda11\\Lib\\site-packages\\keras\\src\\layers\\core\\embedding.py:93: UserWarning: Do not pass an `input_shape`/`input_dim` argument to a layer. When using Sequential models, prefer using an `Input(shape)` object as the first layer in the model instead.\n",
      "  super().__init__(**kwargs)\n"
     ]
    }
   ],
   "source": [
    "model=Sequential()\n",
    "model.add(Embedding(vocab_size,dimensions,input_shape=(15,)))\n",
    "keras.layers.Flatten()\n",
    "model.add(Dense(64, activation='relu'))  # Add a dense layer\n",
    "model.add(Dense(1))  # Output layer for binary classification (example)\n",
    "model.compile(optimizer='adam', loss=\"mean_squared_error\", metrics=['mse'])  # Adjust loss function as needed\n"
   ]
  },
  {
   "cell_type": "code",
   "execution_count": 69,
   "metadata": {},
   "outputs": [
    {
     "data": {
      "text/html": [
       "<pre style=\"white-space:pre;overflow-x:auto;line-height:normal;font-family:Menlo,'DejaVu Sans Mono',consolas,'Courier New',monospace\"><span style=\"font-weight: bold\">Model: \"sequential_25\"</span>\n",
       "</pre>\n"
      ],
      "text/plain": [
       "\u001b[1mModel: \"sequential_25\"\u001b[0m\n"
      ]
     },
     "metadata": {},
     "output_type": "display_data"
    },
    {
     "data": {
      "text/html": [
       "<pre style=\"white-space:pre;overflow-x:auto;line-height:normal;font-family:Menlo,'DejaVu Sans Mono',consolas,'Courier New',monospace\">┏━━━━━━━━━━━━━━━━━━━━━━━━━━━━━━━━━┳━━━━━━━━━━━━━━━━━━━━━━━━┳━━━━━━━━━━━━━━━┓\n",
       "┃<span style=\"font-weight: bold\"> Layer (type)                    </span>┃<span style=\"font-weight: bold\"> Output Shape           </span>┃<span style=\"font-weight: bold\">       Param # </span>┃\n",
       "┡━━━━━━━━━━━━━━━━━━━━━━━━━━━━━━━━━╇━━━━━━━━━━━━━━━━━━━━━━━━╇━━━━━━━━━━━━━━━┩\n",
       "│ embedding_25 (<span style=\"color: #0087ff; text-decoration-color: #0087ff\">Embedding</span>)        │ (<span style=\"color: #00d7ff; text-decoration-color: #00d7ff\">None</span>, <span style=\"color: #00af00; text-decoration-color: #00af00\">15</span>, <span style=\"color: #00af00; text-decoration-color: #00af00\">20</span>)         │         <span style=\"color: #00af00; text-decoration-color: #00af00\">4,000</span> │\n",
       "├─────────────────────────────────┼────────────────────────┼───────────────┤\n",
       "│ dense_52 (<span style=\"color: #0087ff; text-decoration-color: #0087ff\">Dense</span>)                │ (<span style=\"color: #00d7ff; text-decoration-color: #00d7ff\">None</span>, <span style=\"color: #00af00; text-decoration-color: #00af00\">15</span>, <span style=\"color: #00af00; text-decoration-color: #00af00\">64</span>)         │         <span style=\"color: #00af00; text-decoration-color: #00af00\">1,344</span> │\n",
       "├─────────────────────────────────┼────────────────────────┼───────────────┤\n",
       "│ dense_53 (<span style=\"color: #0087ff; text-decoration-color: #0087ff\">Dense</span>)                │ (<span style=\"color: #00d7ff; text-decoration-color: #00d7ff\">None</span>, <span style=\"color: #00af00; text-decoration-color: #00af00\">15</span>, <span style=\"color: #00af00; text-decoration-color: #00af00\">1</span>)          │            <span style=\"color: #00af00; text-decoration-color: #00af00\">65</span> │\n",
       "└─────────────────────────────────┴────────────────────────┴───────────────┘\n",
       "</pre>\n"
      ],
      "text/plain": [
       "┏━━━━━━━━━━━━━━━━━━━━━━━━━━━━━━━━━┳━━━━━━━━━━━━━━━━━━━━━━━━┳━━━━━━━━━━━━━━━┓\n",
       "┃\u001b[1m \u001b[0m\u001b[1mLayer (type)                   \u001b[0m\u001b[1m \u001b[0m┃\u001b[1m \u001b[0m\u001b[1mOutput Shape          \u001b[0m\u001b[1m \u001b[0m┃\u001b[1m \u001b[0m\u001b[1m      Param #\u001b[0m\u001b[1m \u001b[0m┃\n",
       "┡━━━━━━━━━━━━━━━━━━━━━━━━━━━━━━━━━╇━━━━━━━━━━━━━━━━━━━━━━━━╇━━━━━━━━━━━━━━━┩\n",
       "│ embedding_25 (\u001b[38;5;33mEmbedding\u001b[0m)        │ (\u001b[38;5;45mNone\u001b[0m, \u001b[38;5;34m15\u001b[0m, \u001b[38;5;34m20\u001b[0m)         │         \u001b[38;5;34m4,000\u001b[0m │\n",
       "├─────────────────────────────────┼────────────────────────┼───────────────┤\n",
       "│ dense_52 (\u001b[38;5;33mDense\u001b[0m)                │ (\u001b[38;5;45mNone\u001b[0m, \u001b[38;5;34m15\u001b[0m, \u001b[38;5;34m64\u001b[0m)         │         \u001b[38;5;34m1,344\u001b[0m │\n",
       "├─────────────────────────────────┼────────────────────────┼───────────────┤\n",
       "│ dense_53 (\u001b[38;5;33mDense\u001b[0m)                │ (\u001b[38;5;45mNone\u001b[0m, \u001b[38;5;34m15\u001b[0m, \u001b[38;5;34m1\u001b[0m)          │            \u001b[38;5;34m65\u001b[0m │\n",
       "└─────────────────────────────────┴────────────────────────┴───────────────┘\n"
      ]
     },
     "metadata": {},
     "output_type": "display_data"
    },
    {
     "data": {
      "text/html": [
       "<pre style=\"white-space:pre;overflow-x:auto;line-height:normal;font-family:Menlo,'DejaVu Sans Mono',consolas,'Courier New',monospace\"><span style=\"font-weight: bold\"> Total params: </span><span style=\"color: #00af00; text-decoration-color: #00af00\">5,409</span> (21.13 KB)\n",
       "</pre>\n"
      ],
      "text/plain": [
       "\u001b[1m Total params: \u001b[0m\u001b[38;5;34m5,409\u001b[0m (21.13 KB)\n"
      ]
     },
     "metadata": {},
     "output_type": "display_data"
    },
    {
     "data": {
      "text/html": [
       "<pre style=\"white-space:pre;overflow-x:auto;line-height:normal;font-family:Menlo,'DejaVu Sans Mono',consolas,'Courier New',monospace\"><span style=\"font-weight: bold\"> Trainable params: </span><span style=\"color: #00af00; text-decoration-color: #00af00\">5,409</span> (21.13 KB)\n",
       "</pre>\n"
      ],
      "text/plain": [
       "\u001b[1m Trainable params: \u001b[0m\u001b[38;5;34m5,409\u001b[0m (21.13 KB)\n"
      ]
     },
     "metadata": {},
     "output_type": "display_data"
    },
    {
     "data": {
      "text/html": [
       "<pre style=\"white-space:pre;overflow-x:auto;line-height:normal;font-family:Menlo,'DejaVu Sans Mono',consolas,'Courier New',monospace\"><span style=\"font-weight: bold\"> Non-trainable params: </span><span style=\"color: #00af00; text-decoration-color: #00af00\">0</span> (0.00 B)\n",
       "</pre>\n"
      ],
      "text/plain": [
       "\u001b[1m Non-trainable params: \u001b[0m\u001b[38;5;34m0\u001b[0m (0.00 B)\n"
      ]
     },
     "metadata": {},
     "output_type": "display_data"
    }
   ],
   "source": [
    "model.summary()"
   ]
  },
  {
   "cell_type": "code",
   "execution_count": 70,
   "metadata": {},
   "outputs": [
    {
     "name": "stdout",
     "output_type": "stream",
     "text": [
      "WARNING:tensorflow:5 out of the last 5 calls to <function TensorFlowTrainer.make_predict_function.<locals>.one_step_on_data_distributed at 0x00000129D9373CE0> triggered tf.function retracing. Tracing is expensive and the excessive number of tracings could be due to (1) creating @tf.function repeatedly in a loop, (2) passing tensors with different shapes, (3) passing Python objects instead of tensors. For (1), please define your @tf.function outside of the loop. For (2), @tf.function has reduce_retracing=True option that can avoid unnecessary retracing. For (3), please refer to https://www.tensorflow.org/guide/function#controlling_retracing and https://www.tensorflow.org/api_docs/python/tf/function for  more details.\n",
      "\u001b[1m1/1\u001b[0m \u001b[32m━━━━━━━━━━━━━━━━━━━━\u001b[0m\u001b[37m\u001b[0m \u001b[1m0s\u001b[0m 52ms/step\n"
     ]
    },
    {
     "data": {
      "text/plain": [
       "array([[[ 3.3375811e-02],\n",
       "        [-9.3267057e-03],\n",
       "        [-2.0650139e-02],\n",
       "        [-5.7938807e-03],\n",
       "        [ 3.3375811e-02],\n",
       "        [-2.4076354e-02],\n",
       "        [-1.1863422e-02],\n",
       "        [-1.1244783e-02],\n",
       "        [ 1.0093279e-02],\n",
       "        [ 2.6340422e-03],\n",
       "        [-7.7779852e-03],\n",
       "        [ 3.3375811e-02],\n",
       "        [-7.7779852e-03],\n",
       "        [-1.8954536e-02],\n",
       "        [-1.8954536e-02]],\n",
       "\n",
       "       [[ 2.5637182e-03],\n",
       "        [ 5.7988986e-03],\n",
       "        [-1.1419291e-02],\n",
       "        [-7.2950409e-03],\n",
       "        [-8.2825758e-03],\n",
       "        [-3.7822491e-03],\n",
       "        [-1.3879683e-02],\n",
       "        [-1.4522405e-02],\n",
       "        [-6.5041604e-03],\n",
       "        [ 5.3836741e-03],\n",
       "        [-1.8954536e-02],\n",
       "        [-1.8954536e-02],\n",
       "        [-1.8954536e-02],\n",
       "        [-1.8954536e-02],\n",
       "        [-1.8954536e-02]],\n",
       "\n",
       "       [[-6.5484047e-03],\n",
       "        [ 4.7370405e-03],\n",
       "        [ 2.4427388e-02],\n",
       "        [ 1.6274422e-02],\n",
       "        [-1.7062951e-02],\n",
       "        [ 1.6274422e-02],\n",
       "        [-6.5041604e-03],\n",
       "        [ 1.3122034e-02],\n",
       "        [-1.7062951e-02],\n",
       "        [-1.4037972e-02],\n",
       "        [ 1.0093279e-02],\n",
       "        [ 3.3375811e-02],\n",
       "        [-8.7054912e-05],\n",
       "        [-1.8954536e-02],\n",
       "        [-1.8954536e-02]],\n",
       "\n",
       "       [[ 3.3375811e-02],\n",
       "        [ 1.2876743e-02],\n",
       "        [ 1.2798750e-02],\n",
       "        [ 1.0093279e-02],\n",
       "        [ 1.8112984e-02],\n",
       "        [ 2.2978429e-03],\n",
       "        [-1.1244783e-02],\n",
       "        [ 1.9924905e-02],\n",
       "        [-9.4240392e-03],\n",
       "        [-8.7054912e-05],\n",
       "        [ 3.3375811e-02],\n",
       "        [-1.6915761e-02],\n",
       "        [-8.7054912e-05],\n",
       "        [-1.8954536e-02],\n",
       "        [-1.8954536e-02]],\n",
       "\n",
       "       [[ 4.2168824e-03],\n",
       "        [-9.1114463e-03],\n",
       "        [ 5.3284764e-03],\n",
       "        [-6.3911499e-03],\n",
       "        [-9.6116401e-03],\n",
       "        [ 2.2978429e-03],\n",
       "        [-9.1114463e-03],\n",
       "        [ 1.6708255e-02],\n",
       "        [ 2.8844498e-02],\n",
       "        [-9.8418593e-03],\n",
       "        [-6.5041604e-03],\n",
       "        [ 4.1640815e-03],\n",
       "        [-1.8954536e-02],\n",
       "        [-1.8954536e-02],\n",
       "        [-1.8954536e-02]],\n",
       "\n",
       "       [[ 8.7918788e-03],\n",
       "        [ 1.0093279e-02],\n",
       "        [ 3.3375811e-02],\n",
       "        [ 1.6264807e-02],\n",
       "        [-9.1114463e-03],\n",
       "        [-2.2880126e-02],\n",
       "        [-1.5924873e-02],\n",
       "        [-6.5041604e-03],\n",
       "        [ 2.1967557e-03],\n",
       "        [-1.0226146e-02],\n",
       "        [-9.4240392e-03],\n",
       "        [-9.8418593e-03],\n",
       "        [-2.4365308e-04],\n",
       "        [-1.8954536e-02],\n",
       "        [-1.8954536e-02]],\n",
       "\n",
       "       [[-1.1244783e-02],\n",
       "        [-8.2825758e-03],\n",
       "        [-1.3687244e-02],\n",
       "        [-6.5041604e-03],\n",
       "        [-5.6595309e-03],\n",
       "        [-9.1114463e-03],\n",
       "        [-9.3267057e-03],\n",
       "        [-5.6595309e-03],\n",
       "        [-1.2168195e-02],\n",
       "        [-1.5445745e-02],\n",
       "        [-6.5041604e-03],\n",
       "        [-1.1841925e-02],\n",
       "        [ 2.2812637e-02],\n",
       "        [-1.8954536e-02],\n",
       "        [-1.8954536e-02]],\n",
       "\n",
       "       [[-8.1228912e-03],\n",
       "        [-1.1419291e-02],\n",
       "        [ 5.5704992e-03],\n",
       "        [ 1.0093279e-02],\n",
       "        [ 1.6274422e-02],\n",
       "        [ 3.3375811e-02],\n",
       "        [-2.7281985e-02],\n",
       "        [ 2.4018921e-02],\n",
       "        [ 1.6274422e-02],\n",
       "        [-6.5041604e-03],\n",
       "        [ 3.4078858e-03],\n",
       "        [-1.8954536e-02],\n",
       "        [-1.8954536e-02],\n",
       "        [-1.8954536e-02],\n",
       "        [-1.8954536e-02]],\n",
       "\n",
       "       [[-1.2007777e-02],\n",
       "        [-1.1419291e-02],\n",
       "        [ 2.2978429e-03],\n",
       "        [-8.7054912e-05],\n",
       "        [-7.8462763e-03],\n",
       "        [-1.4037972e-02],\n",
       "        [-6.5041604e-03],\n",
       "        [-1.6915761e-02],\n",
       "        [ 7.9096574e-04],\n",
       "        [-1.8954536e-02],\n",
       "        [-1.8954536e-02],\n",
       "        [-1.8954536e-02],\n",
       "        [-1.8954536e-02],\n",
       "        [-1.8954536e-02],\n",
       "        [-1.8954536e-02]],\n",
       "\n",
       "       [[ 3.3375811e-02],\n",
       "        [ 1.0093279e-02],\n",
       "        [ 2.4054516e-02],\n",
       "        [ 1.0093279e-02],\n",
       "        [ 1.2890837e-02],\n",
       "        [-7.2950409e-03],\n",
       "        [-1.0416822e-02],\n",
       "        [-6.5041604e-03],\n",
       "        [-1.2439187e-03],\n",
       "        [-1.3242140e-03],\n",
       "        [-1.8954536e-02],\n",
       "        [-1.8954536e-02],\n",
       "        [-1.8954536e-02],\n",
       "        [-1.8954536e-02],\n",
       "        [-1.8954536e-02]]], dtype=float32)"
      ]
     },
     "execution_count": 70,
     "metadata": {},
     "output_type": "execute_result"
    }
   ],
   "source": [
    "model.predict(embedded_layer)"
   ]
  },
  {
   "cell_type": "code",
   "execution_count": 71,
   "metadata": {},
   "outputs": [
    {
     "data": {
      "text/plain": [
       "array([ 50,  84, 188,  39,  50,  15, 195, 179, 153,  94, 133,  50, 133,\n",
       "         0,   0])"
      ]
     },
     "execution_count": 71,
     "metadata": {},
     "output_type": "execute_result"
    }
   ],
   "source": [
    "embedded_layer[0]"
   ]
  },
  {
   "cell_type": "code",
   "execution_count": null,
   "metadata": {},
   "outputs": [],
   "source": []
  }
 ],
 "metadata": {
  "kernelspec": {
   "display_name": "base",
   "language": "python",
   "name": "python3"
  },
  "language_info": {
   "codemirror_mode": {
    "name": "ipython",
    "version": 3
   },
   "file_extension": ".py",
   "mimetype": "text/x-python",
   "name": "python",
   "nbconvert_exporter": "python",
   "pygments_lexer": "ipython3",
   "version": "3.12.4"
  }
 },
 "nbformat": 4,
 "nbformat_minor": 2
}
